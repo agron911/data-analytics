{
 "cells": [
  {
   "cell_type": "markdown",
   "id": "00794f1e",
   "metadata": {},
   "source": [
    "### binary search"
   ]
  },
  {
   "cell_type": "code",
   "execution_count": 1,
   "id": "ec89b18e",
   "metadata": {},
   "outputs": [
    {
     "name": "stdout",
     "output_type": "stream",
     "text": [
      "3\n"
     ]
    }
   ],
   "source": [
    "def binary_search(lis,item):\n",
    "    low = 0\n",
    "    high = len(lis)-1\n",
    "    \n",
    "    while low <= high:\n",
    "        mid = int((low+high)/2)\n",
    "        guess = lis[mid]\n",
    "        if guess<item:\n",
    "            low = mid+1\n",
    "        elif guess ==item:\n",
    "            return mid\n",
    "        else:\n",
    "            high = mid -1\n",
    "            \n",
    "    return None\n",
    "my_list = [1,3,5,7,9]\n",
    "print(binary_search(my_list,7))\n"
   ]
  },
  {
   "cell_type": "markdown",
   "id": "9993acf5",
   "metadata": {},
   "source": [
    "\n",
    "### Selection sort\n"
   ]
  },
  {
   "cell_type": "code",
   "execution_count": 2,
   "id": "438e645c",
   "metadata": {},
   "outputs": [
    {
     "data": {
      "text/plain": [
       "[2, 3, 5, 6, 10]"
      ]
     },
     "execution_count": 2,
     "metadata": {},
     "output_type": "execute_result"
    }
   ],
   "source": [
    "\n",
    "\n",
    "def findSmallest(arr):\n",
    "    smallest = arr[0]\n",
    "    index = 0\n",
    "    for i in range(1,len(arr)):\n",
    "        if arr[i] < smallest:\n",
    "            smallest = arr[i]\n",
    "            index =i\n",
    "            \n",
    "    return index\n",
    "\n",
    "def selectionSort(arr):\n",
    "    newArr = []\n",
    "    for i in range(len(arr)):\n",
    "        smallest =  findSmallest(arr)\n",
    "        \n",
    "        newArr.append(arr.pop(smallest))\n",
    "    return newArr\n",
    "\n",
    "selectionSort([5,3,6,2,10])"
   ]
  },
  {
   "cell_type": "markdown",
   "id": "d7444306",
   "metadata": {},
   "source": [
    "### recursive"
   ]
  },
  {
   "cell_type": "code",
   "execution_count": 9,
   "id": "64452cb7",
   "metadata": {},
   "outputs": [
    {
     "data": {
      "text/plain": [
       "10"
      ]
     },
     "execution_count": 9,
     "metadata": {},
     "output_type": "execute_result"
    }
   ],
   "source": [
    "def summ(arr):\n",
    "    if len(arr)==1:\n",
    "        return arr[0]\n",
    "    else:\n",
    "        return arr[0]+sum(arr[1:])\n",
    "    \n",
    "summ([1,2,3,4])"
   ]
  },
  {
   "cell_type": "code",
   "execution_count": 19,
   "id": "735508a4",
   "metadata": {},
   "outputs": [
    {
     "data": {
      "text/plain": [
       "5"
      ]
     },
     "execution_count": 19,
     "metadata": {},
     "output_type": "execute_result"
    }
   ],
   "source": [
    "import numpy as np\n",
    "def maxx(arr):\n",
    "    if len(arr)==2:\n",
    "        return arr[0] if arr[0]>arr[1] else arr[1]\n",
    "    sub_arr = arr[1:]\n",
    "    return arr[0] if (arr[0] > np.array(sub_arr)).any() else maxx(sub_arr)\n",
    "maxx([1,2,3,4,5])"
   ]
  },
  {
   "cell_type": "code",
   "execution_count": 11,
   "id": "500a658f",
   "metadata": {},
   "outputs": [
    {
     "data": {
      "text/plain": [
       "5"
      ]
     },
     "execution_count": 11,
     "metadata": {},
     "output_type": "execute_result"
    }
   ],
   "source": [
    "max([1,2,3,4,5])"
   ]
  },
  {
   "cell_type": "code",
   "execution_count": 83,
   "id": "e7ae8349",
   "metadata": {},
   "outputs": [
    {
     "data": {
      "text/plain": [
       "3"
      ]
     },
     "execution_count": 83,
     "metadata": {},
     "output_type": "execute_result"
    }
   ],
   "source": [
    "def bs(arr,left,right,num):\n",
    "    middle = int((left+right)/2)\n",
    "    \n",
    "    if left>right:\n",
    "        return -1\n",
    "    \n",
    "    if arr[middle]==num:\n",
    "        return middle\n",
    "    elif num>arr[middle]:\n",
    "\n",
    "        return bs(arr,middle+1,right,num)\n",
    "    elif num<arr[middle]:\n",
    "        return bs(arr,left,middle-1,num)\n",
    "    \n",
    "\n",
    "arr =[1,2,3,5,6,8,11]\n",
    "(left, right) =(0, len(arr)-1)\n",
    "bs(arr,left,right,5)"
   ]
  },
  {
   "cell_type": "code",
   "execution_count": 25,
   "id": "7eb31f4b",
   "metadata": {},
   "outputs": [
    {
     "data": {
      "text/plain": [
       "[0, 1, 2]"
      ]
     },
     "execution_count": 25,
     "metadata": {},
     "output_type": "execute_result"
    }
   ],
   "source": [
    "a=[0,1,2,3,4,5]\n",
    "a[:3]"
   ]
  },
  {
   "cell_type": "code",
   "execution_count": null,
   "id": "9d70829c",
   "metadata": {},
   "outputs": [],
   "source": []
  }
 ],
 "metadata": {
  "kernelspec": {
   "display_name": "Python 3",
   "language": "python",
   "name": "python3"
  },
  "language_info": {
   "codemirror_mode": {
    "name": "ipython",
    "version": 3
   },
   "file_extension": ".py",
   "mimetype": "text/x-python",
   "name": "python",
   "nbconvert_exporter": "python",
   "pygments_lexer": "ipython3",
   "version": "3.8.8"
  }
 },
 "nbformat": 4,
 "nbformat_minor": 5
}
