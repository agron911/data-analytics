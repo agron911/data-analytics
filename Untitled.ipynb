{
 "cells": [
  {
   "cell_type": "markdown",
   "id": "35c46dfb",
   "metadata": {},
   "source": [
    "# 26. Remove Duplicates from Sorted Array\n"
   ]
  },
  {
   "cell_type": "code",
   "execution_count": 6,
   "id": "ba6bd312",
   "metadata": {},
   "outputs": [
    {
     "data": {
      "text/plain": [
       "(5, [1, 3, 5, 8, 9, 9, 9])"
      ]
     },
     "execution_count": 6,
     "metadata": {},
     "output_type": "execute_result"
    }
   ],
   "source": [
    "nums = [1,3,5,8,9,9,9]\n",
    "def remove_duplicate(nums):\n",
    "    if not nums:\n",
    "        return 0 \n",
    "    remove_end = 0\n",
    "    for i in range(len(nums)):\n",
    "        if (nums[i] != nums[remove_end]) :\n",
    "            remove_end +=1\n",
    "            nums[remove_end] = nums[i]\n",
    "    return remove_end+1,nums\n",
    "remove_duplicate(nums)"
   ]
  },
  {
   "cell_type": "code",
   "execution_count": null,
   "id": "7f4a5529",
   "metadata": {},
   "outputs": [],
   "source": []
  }
 ],
 "metadata": {
  "kernelspec": {
   "display_name": "Python 3",
   "language": "python",
   "name": "python3"
  },
  "language_info": {
   "codemirror_mode": {
    "name": "ipython",
    "version": 3
   },
   "file_extension": ".py",
   "mimetype": "text/x-python",
   "name": "python",
   "nbconvert_exporter": "python",
   "pygments_lexer": "ipython3",
   "version": "3.8.8"
  }
 },
 "nbformat": 4,
 "nbformat_minor": 5
}
